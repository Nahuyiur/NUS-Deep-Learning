{
 "cells": [
  {
   "cell_type": "markdown",
   "id": "b6e2488d-2dfa-48aa-b393-b51fd88818dd",
   "metadata": {},
   "source": [
    "# 1 AUTOENCODERS\n",
    "\n",
    "In this lab we will create a simple autoencoder to generate images from a vector of random numbers.\n",
    "\n",
    "We begin with our usual imports"
   ]
  },
  {
   "cell_type": "code",
   "execution_count": null,
   "id": "66e960a1-91a2-4a7b-aec6-c6df5ef1aec8",
   "metadata": {},
   "outputs": [],
   "source": [
    "import tensorflow as tf\n",
    "import numpy as np\n",
    "import tensorflow.keras.backend as K\n",
    "\n",
    "from tensorflow.keras import (layers, optimizers, losses, callbacks, models, datasets)\n",
    "from utils import display\n",
    "from tensorflow.keras.preprocessing.image import smart_resize\n",
    "import matplotlib.pyplot as plt\n",
    "from mpl_toolkits.mplot3d import Axes3D"
   ]
  },
  {
   "cell_type": "code",
   "execution_count": null,
   "id": "605c9640-c1da-4fca-8029-e8ba8cf6fd99",
   "metadata": {},
   "outputs": [],
   "source": [
    "from tensorflow.keras.datasets import mnist\n",
    "CHANNELS = 1     # 1 channel,since MNIST is a greyscale dataset\n",
    "EMB_DIM = 3      # Dimension of our latent vector\n",
    "IMAGE_SIZE = 16  # Width and height of images in pixels.\n",
    "\n",
    "# Load and store filenames\n",
    "SAVE_FILENAME_ENC = \"mnist-encoder.keras\"\n",
    "SAVE_FILENAME_DEC = \"mnist-decoder.keras\"\n",
    "SAVE_FILENAME_AE = \"mnist-ae.keras\"\n",
    "\n",
    "# Training Epochs\n",
    "EPOCHS = 5\n",
    "\n",
    "# Batch size\n",
    "BATCH_SIZE = 64"
   ]
  },
  {
   "cell_type": "code",
   "execution_count": null,
   "id": "d1ac37c4-fbdf-48d1-8300-951db6741f78",
   "metadata": {},
   "outputs": [],
   "source": [
    "(x_train, _), (x_test, _) = mnist.load_data()\n",
    "x_train = np.expand_dims(x_train, -1)\n",
    "x_test = np.expand_dims(x_test, -1)\n",
    "\n",
    "# Resize and normalize\n",
    "x_train = np.array([smart_resize(img, (IMAGE_SIZE, IMAGE_SIZE)) for img in x_train])/255.0\n",
    "x_test = np.array([smart_resize(img, (IMAGE_SIZE, IMAGE_SIZE)) for img in x_test])/255.0\n"
   ]
  },
  {
   "cell_type": "code",
   "execution_count": null,
   "id": "5e24f774-bbf2-4322-b63b-6df439ec2f6e",
   "metadata": {},
   "outputs": [],
   "source": [
    "# Create the encoder\n",
    "# BatchNormalization is needed for good convergence and to preserve color data. Without batch normalization we\n",
    "# get a grey square when there's too many layers.\n",
    "\n",
    "encoder_input = layers.Input(shape=(IMAGE_SIZE, IMAGE_SIZE, CHANNELS), name=\"encoder_input\")\n",
    "\n",
    "layer1 = layers.Conv2D(32, kernel_size=(3, 3), strides = 2, \n",
    "                       activation = 'relu', name=\"encoder_layer1\", \n",
    "                      padding = 'same')(encoder_input)\n",
    "layer1 = layers.BatchNormalization(momentum=0.8)(layer1)\n",
    "layer2 = layers.Conv2D(64, kernel_size=(3, 3), strides = 2, \n",
    "                       activation = 'relu', name=\"encoder_layer2\",\n",
    "                      padding = 'same')(layer1)\n",
    "layer2 = layers.BatchNormalization(momentum=0.8)(layer2)\n",
    "layer3 = layers.Conv2D(128, kernel_size=(3, 3), strides = 2, \n",
    "                       activation = 'relu', name=\"encoder_layer3\",\n",
    "                      padding = 'same')(layer2)\n",
    "layer3 = layers.BatchNormalization(momentum=0.8)(layer3)\n",
    "\n",
    "# We need this for the decoder\n",
    "shape_before_flattening = K.int_shape(layer2)[1:]\n",
    "flatten_layer = layers.Flatten()(layer3)\n",
    "\n",
    "# The embedding layer\n",
    "encoder_output = layers.Dense(EMB_DIM, activation='sigmoid', name=\"encoder_output\")(flatten_layer)\n",
    "\n",
    "encoder = models.Model(inputs = encoder_input, outputs = encoder_output)\n",
    "encoder.summary()\n"
   ]
  },
  {
   "cell_type": "code",
   "execution_count": null,
   "id": "634b3c2f-a634-48f6-94ed-077711f455dd",
   "metadata": {},
   "outputs": [],
   "source": [
    "#Create the decoder\n",
    "# Adding batch normalization restores the color\n",
    "\n",
    "decoder_input = layers.Input(shape = (EMB_DIM,), name = \"decoder_input\")\n",
    "layer1 = layers.Dense(np.prod(shape_before_flattening), activation='relu', \n",
    "                      name=\"decoder_layer1\")(decoder_input)\n",
    "reshape = layers.Reshape(target_shape = shape_before_flattening)(layer1)\n",
    "\n",
    "layer2 = layers.Conv2DTranspose(128, kernel_size=(3, 3), strides = 1, \n",
    "                                activation = 'relu', name = 'decoder_layer2'\n",
    "                               ,padding = 'same')(reshape)\n",
    "layer2 = layers.BatchNormalization(momentum = 0.8)(layer2)\n",
    "\n",
    "layer3 = layers.Conv2DTranspose(64, kernel_size=(3, 3), strides = 2, \n",
    "                                activation = 'relu', name = 'decoder_layer3'\n",
    "                               ,padding = 'same')(layer2)\n",
    "\n",
    "layer3 = layers.BatchNormalization(momentum = 0.8)(layer3)\n",
    "\n",
    "layer4 = layers.Conv2DTranspose(32, kernel_size=(3, 3), strides = 2, \n",
    "                                activation = 'relu', name = 'decoder_layer4'\n",
    "                               ,padding = 'same')(layer3)\n",
    "\n",
    "layer4 = layers.BatchNormalization(momentum = 0.8)(layer4)\n",
    "\n",
    "decoder_output = layers.Conv2DTranspose(CHANNELS, kernel_size = (3, 3), strides = 1,\n",
    "                                        activation = 'sigmoid', name = 'decoder_output'\n",
    "                                       ,padding = 'same')(layer4)\n",
    "\n",
    "decoder = models.Model(inputs = decoder_input, outputs = decoder_output)\n",
    "decoder.summary()\n"
   ]
  },
  {
   "cell_type": "code",
   "execution_count": null,
   "id": "3eb7c643-e438-4855-b979-69fb7adc6471",
   "metadata": {},
   "outputs": [],
   "source": [
    "# Create the autoencoder\n",
    "autoencoder = models.Model(inputs = encoder_input, outputs = decoder(encoder_output),\n",
    "                           name = 'autoencoder')\n",
    "autoencoder.summary()"
   ]
  },
  {
   "cell_type": "code",
   "execution_count": null,
   "id": "bc433929-0744-4961-9ec3-586b84a87ccd",
   "metadata": {},
   "outputs": [],
   "source": [
    "# Set up the training\n",
    "Adam = optimizers.Adam(learning_rate = 0.01)\n",
    "autoencoder.compile(optimizer = Adam, loss = 'binary_crossentropy')\n",
    "\n",
    "# Save the encoder, decoder and AE weights\n",
    "checkpoint = callbacks.ModelCheckpoint(filepath = SAVE_FILENAME_AE, save_freq='epoch')\n",
    "\n",
    "# Early Stopping\n",
    "earlystop = callbacks.EarlyStopping(min_delta = 0.01, patience = 5)\n",
    "\n",
    "# Create our own custom callback to save encoder and decoder weights\n",
    "class saveCallback(callbacks.Callback):\n",
    "    def __init__(self, encoder, decoder):\n",
    "        self.encoder = encoder\n",
    "        self.decoder = decoder\n",
    "        \n",
    "    def on_epoch_end(self, epoch, logs=None):\n",
    "        print(\"\\nSaving at epoch: %d.\\n\" % (epoch+1))\n",
    "        self.encoder.save(SAVE_FILENAME_ENC)\n",
    "        self.decoder.save(SAVE_FILENAME_DEC)\n",
    "\n",
    "class displayImage(callbacks.Callback):\n",
    "    def __init__(self, decoder, emb_dim):\n",
    "        super().__init__()\n",
    "        self.emb_dim = emb_dim\n",
    "        self.decoder = decoder\n",
    "       \n",
    "\n",
    "    def on_epoch_end(self, epoch, logs = None):\n",
    "        fake_vect = tf.random.uniform(shape=(10, self.emb_dim))\n",
    "        fake_image = self.decoder.predict(fake_vect)\n",
    "        display(fake_image)\n",
    "        \n",
    "save_callback = saveCallback(encoder, decoder)\n",
    "display_image = displayImage(decoder, EMB_DIM)\n"
   ]
  },
  {
   "cell_type": "code",
   "execution_count": null,
   "id": "f3c99abb-27ac-421d-8ece-8eb91e08be64",
   "metadata": {
    "scrolled": true
   },
   "outputs": [],
   "source": [
    "# Start the training\n",
    "autoencoder.fit(x = x_train, y = x_train, batch_size = BATCH_SIZE, \n",
    "                epochs = EPOCHS, shuffle=True, validation_data = (x_test, x_test),\n",
    "                callbacks = [checkpoint, save_callback, earlystop, display_image])"
   ]
  },
  {
   "cell_type": "code",
   "execution_count": null,
   "id": "d5331946-45b4-4b7d-bef4-5487f320910c",
   "metadata": {},
   "outputs": [],
   "source": [
    "# Generate test images\n",
    "train_set = x_train[:10]\n",
    "test_set = x_test[:10]\n",
    "fake_vect = tf.random.uniform(shape=(10, EMB_DIM), minval=0, maxval=1)\n",
    "\n",
    "train_img = autoencoder.predict(train_set)\n",
    "test_img = autoencoder.predict(test_set)\n",
    "train_scatter = encoder.predict(x_train[:500])\n",
    "test_scatter = encoder.predict(x_test[:500])\n",
    "fake_img = decoder.predict(fake_vect)\n",
    "\n",
    "print(\"Train Images\")\n",
    "display(train_set)\n",
    "display(train_img)\n",
    "\n",
    "print(\"\\nTest Images\")\n",
    "display(test_set)\n",
    "display(test_img)\n",
    "\n",
    "print(\"\\nGenerated Images\")\n",
    "display(fake_img)\n",
    "\n",
    "\n",
    "fig = plt.figure()\n",
    "ax = fig.add_subplot(111, projection='3d')\n",
    "ax.scatter(train_scatter[:, 0], train_scatter[:, 1], train_scatter[:, 2], color='blue', label='Training Data')\n",
    "ax.scatter(test_scatter[:, 0], test_scatter[:, 1], test_scatter[:, 2], color='green', label='Training Data')\n",
    "ax.scatter(fake_vect[:, 0], fake_vect[:, 1], fake_vect[:, 2], color='red', label='Training Data')\n",
    "ax.set_title(\"Latent Space Plot\")\n",
    "plt.show()"
   ]
  },
  {
   "cell_type": "code",
   "execution_count": null,
   "id": "0d4705f4-6e24-4365-82e1-f8ddfb6bbc59",
   "metadata": {},
   "outputs": [],
   "source": []
  },
  {
   "cell_type": "code",
   "execution_count": null,
   "id": "7a000fc7-d495-4e7f-99cd-da055c0768bd",
   "metadata": {},
   "outputs": [],
   "source": []
  }
 ],
 "metadata": {
  "kernelspec": {
   "display_name": "tfenv",
   "language": "python",
   "name": "python3"
  },
  "language_info": {
   "codemirror_mode": {
    "name": "ipython",
    "version": 3
   },
   "file_extension": ".py",
   "mimetype": "text/x-python",
   "name": "python",
   "nbconvert_exporter": "python",
   "pygments_lexer": "ipython3",
   "version": "3.9.23"
  }
 },
 "nbformat": 4,
 "nbformat_minor": 5
}

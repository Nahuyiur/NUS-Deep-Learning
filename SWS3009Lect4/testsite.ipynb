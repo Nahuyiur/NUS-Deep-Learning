{
 "cells": [
  {
   "cell_type": "markdown",
   "id": "1bf21951-bab9-4425-8091-093278a1993a",
   "metadata": {},
   "source": [
    "# Writing a Webserver in Flask\n",
    "\n",
    "In this document we will look at writing a webserver in Python using Flask. You will need the files in the templates directory of the SWS3009Lect4.zip file.\n",
    "\n",
    "## Installing Flask\n",
    "\n",
    "We start by installing FLask:"
   ]
  },
  {
   "cell_type": "code",
   "execution_count": 1,
   "id": "4f75d372-9a44-42fa-9801-7521ea072da1",
   "metadata": {},
   "outputs": [
    {
     "name": "stdout",
     "output_type": "stream",
     "text": [
      "Collecting flask\n",
      "  Downloading flask-3.1.1-py3-none-any.whl.metadata (3.0 kB)\n",
      "Collecting blinker>=1.9.0 (from flask)\n",
      "  Downloading blinker-1.9.0-py3-none-any.whl.metadata (1.6 kB)\n",
      "Requirement already satisfied: click>=8.1.3 in /opt/anaconda3/envs/tfenv/lib/python3.9/site-packages (from flask) (8.1.8)\n",
      "Requirement already satisfied: importlib-metadata>=3.6.0 in /opt/anaconda3/envs/tfenv/lib/python3.9/site-packages (from flask) (8.7.0)\n",
      "Collecting itsdangerous>=2.2.0 (from flask)\n",
      "  Downloading itsdangerous-2.2.0-py3-none-any.whl.metadata (1.9 kB)\n",
      "Requirement already satisfied: jinja2>=3.1.2 in /opt/anaconda3/envs/tfenv/lib/python3.9/site-packages (from flask) (3.1.6)\n",
      "Requirement already satisfied: markupsafe>=2.1.1 in /opt/anaconda3/envs/tfenv/lib/python3.9/site-packages (from flask) (3.0.2)\n",
      "Requirement already satisfied: werkzeug>=3.1.0 in /opt/anaconda3/envs/tfenv/lib/python3.9/site-packages (from flask) (3.1.3)\n",
      "Requirement already satisfied: zipp>=3.20 in /opt/anaconda3/envs/tfenv/lib/python3.9/site-packages (from importlib-metadata>=3.6.0->flask) (3.23.0)\n",
      "Downloading flask-3.1.1-py3-none-any.whl (103 kB)\n",
      "Downloading blinker-1.9.0-py3-none-any.whl (8.5 kB)\n",
      "Downloading itsdangerous-2.2.0-py3-none-any.whl (16 kB)\n",
      "Installing collected packages: itsdangerous, blinker, flask\n",
      "\u001b[2K   \u001b[90m━━━━━━━━━━━━━━━━━━━━━━━━━━━━━━━━━━━━━━━━\u001b[0m \u001b[32m3/3\u001b[0m [flask]\n",
      "\u001b[1A\u001b[2KSuccessfully installed blinker-1.9.0 flask-3.1.1 itsdangerous-2.2.0\n"
     ]
    }
   ],
   "source": [
    "! pip3 install flask"
   ]
  },
  {
   "cell_type": "markdown",
   "id": "7b92c77b-8794-49d4-96a6-d7e123effd67",
   "metadata": {},
   "source": [
    "## Importing the various libraries\n",
    "\n",
    "We now import the following libraries from the flask workspace:\n",
    "\n",
    "- Flask: The main Flask object\n",
    "- request: To handle requests from the client\n",
    "- render_template: Lets us render web pages using Jinja\n",
    "\n",
    "We also import MongoClient from pymongo to let us connect to the MongoDB server.\n"
   ]
  },
  {
   "cell_type": "code",
   "execution_count": 3,
   "id": "c6528bdc-2fe0-4e96-9189-f312d87811d3",
   "metadata": {},
   "outputs": [],
   "source": [
    "from flask import Flask, request, render_template\n",
    "from pymongo import MongoClient\n",
    "\n",
    "# Create the Flask object\n",
    "app = Flask(__name__)\n"
   ]
  },
  {
   "cell_type": "markdown",
   "id": "90be8176-aecc-40cd-838e-abda4b0cfce0",
   "metadata": {},
   "source": [
    "## Creating the Routes\n",
    "\n",
    "We now come to the main part of our web server - the various routes. A \"route\" essentially defines an end-point for our connection. For example if we want to connect to http://mysite.com/hello, then we need to create a /hello route. Likewise if we just wanted to connect to http://mysite.com/, we need to create a \"/\" route.\n",
    "\n",
    "### The \"root\" route\n",
    "\n",
    "We start witht his simple \"/\" route where we just print out a message. Since we are not sending any data to this route, we define it as a simple GET route.\n",
    "\n",
    "Note that we must also return a code. Here 200 means \"Success\"."
   ]
  },
  {
   "cell_type": "code",
   "execution_count": 4,
   "id": "e45eef9c-1823-431e-8350-e092d478fedc",
   "metadata": {},
   "outputs": [],
   "source": [
    "@app.route('/', methods = ['GET'])\n",
    "def root():\n",
    "    return 'SWS3009 Sample Site', 200"
   ]
  },
  {
   "cell_type": "markdown",
   "id": "964aa3ef-ebcc-4349-9a31-7fa7fe300690",
   "metadata": {},
   "source": [
    "### The \"/index\" route\n",
    "\n",
    "In the /index route (called using http://mysite.com/index, for example), we will see how to use the request object to extract data that has been sent as part of a GET request. E.g. using http://mysite.com/index?name=polar%20%bear.\n",
    "\n",
    "We extract parameters sent using GET by making use of request.args.get, as shown here.\n",
    "\n",
    "We also see an example of how to use render_template to render the index.html Jinja script in the templates directory."
   ]
  },
  {
   "cell_type": "code",
   "execution_count": 5,
   "id": "f9a6bd5b-e13c-4e56-810a-3b9514258cfd",
   "metadata": {},
   "outputs": [],
   "source": [
    "# Examples of how to render a template. Also note\n",
    "# how we use requests.args.get to extract GET parameters\n",
    "@app.route('/index', methods = ['GET'])\n",
    "def index():\n",
    "    \"\"\" Demo routine to show how to pass parameters through GET \"\"\"\n",
    "\n",
    "    # Extract GET parameters from request object\n",
    "    name = request.args.get('name')\n",
    "\n",
    "    if name is None:\n",
    "        name = 'Bob Jones'\n",
    "\n",
    "    return render_template('index.html', info = {\"title\":\"Hello World\", \"name\":name}), 200"
   ]
  },
  {
   "cell_type": "markdown",
   "id": "85f16a25-4e64-4488-9d27-d50c9bba1abc",
   "metadata": {},
   "source": [
    "### The /put route\n",
    "\n",
    "We now create a new /put endpoint, this time using a POST method. We see an example of how to extract data sent via a POST request by using request.get_json(). "
   ]
  },
  {
   "cell_type": "code",
   "execution_count": 8,
   "id": "ad3f367f-a606-4dc5-a338-ab83e6b986c5",
   "metadata": {},
   "outputs": [],
   "source": [
    "# Example of how to handle JSON sent in via POST\n",
    "@app.route('/put', methods = ['POST'])\n",
    "def put_record():\n",
    "    \"\"\" Add a new record to the database \"\"\"\n",
    "\n",
    "    try:\n",
    "        new_rec = request.get_json()\n",
    "\n",
    "        print(new_rec)\n",
    "        if new_rec is not None:\n",
    "            col.insert_one(new_rec)\n",
    "\n",
    "        return 'OK', 200 \n",
    "    except Exception as e:\n",
    "        return e, 400 "
   ]
  },
  {
   "cell_type": "markdown",
   "id": "ff30987e-1297-4d90-9c20-b44799941c57",
   "metadata": {},
   "source": [
    "### The /get endpoint\n",
    "\n",
    "Just a simple endpoint to list every item in the database."
   ]
  },
  {
   "cell_type": "code",
   "execution_count": 9,
   "id": "e220ee33-3270-4525-ae89-b457a7bca856",
   "metadata": {},
   "outputs": [],
   "source": [
    "@app.route('/get', methods = ['GET'])\n",
    "def get():\n",
    "    \"\"\" Get all records and return it \"\"\"\n",
    "\n",
    "    results = col.find()\n",
    "\n",
    "    return render_template('get.html', results = results)"
   ]
  },
  {
   "cell_type": "markdown",
   "id": "1e9cc68b-7812-4e39-bf26-5023a5441525",
   "metadata": {},
   "source": [
    "## Main\n",
    "\n",
    "Finally our main simply connects to the MongoDB backend, then calls app.run to start our database server on port 3237. The 'host=\"0.0.0.0\"' option allows any client to connect to our web server. Otherwise connections are restricted only to clients running locally."
   ]
  },
  {
   "cell_type": "code",
   "execution_count": null,
   "id": "9efaeb32-1378-4a02-ab9c-86e44df25270",
   "metadata": {},
   "outputs": [
    {
     "name": "stdout",
     "output_type": "stream",
     "text": [
      " * Serving Flask app '__main__'\n",
      " * Debug mode: off\n"
     ]
    },
    {
     "name": "stderr",
     "output_type": "stream",
     "text": [
      "\u001b[31m\u001b[1mWARNING: This is a development server. Do not use it in a production deployment. Use a production WSGI server instead.\u001b[0m\n",
      " * Running on all addresses (0.0.0.0)\n",
      " * Running on http://127.0.0.1:3237\n",
      " * Running on http://172.31.71.96:3237\n",
      "\u001b[33mPress CTRL+C to quit\u001b[0m\n"
     ]
    },
    {
     "name": "stdout",
     "output_type": "stream",
     "text": [
      "{'name': 'Document 1', 'Description': 'First test document'}\n"
     ]
    },
    {
     "name": "stderr",
     "output_type": "stream",
     "text": [
      "[2025-07-04 23:18:21,576] ERROR in app: Exception on /put [POST]\n",
      "Traceback (most recent call last):\n",
      "  File \"/opt/anaconda3/envs/tfenv/lib/python3.9/site-packages/flask/app.py\", line 1511, in wsgi_app\n",
      "    response = self.full_dispatch_request()\n",
      "  File \"/opt/anaconda3/envs/tfenv/lib/python3.9/site-packages/flask/app.py\", line 920, in full_dispatch_request\n",
      "    return self.finalize_request(rv)\n",
      "  File \"/opt/anaconda3/envs/tfenv/lib/python3.9/site-packages/flask/app.py\", line 939, in finalize_request\n",
      "    response = self.make_response(rv)\n",
      "  File \"/opt/anaconda3/envs/tfenv/lib/python3.9/site-packages/flask/app.py\", line 1249, in make_response\n",
      "    raise TypeError(\n",
      "TypeError: The view function did not return a valid response. The return type must be a string, dict, list, tuple with headers or status, Response instance, or WSGI callable, but it was a ServerSelectionTimeoutError.\n",
      "127.0.0.1 - - [04/Jul/2025 23:18:21] \"\u001b[35m\u001b[1mPOST /put HTTP/1.1\u001b[0m\" 500 -\n"
     ]
    },
    {
     "name": "stdout",
     "output_type": "stream",
     "text": [
      "{'id': 1, 'Why': 'We can do different formats!'}\n"
     ]
    },
    {
     "name": "stderr",
     "output_type": "stream",
     "text": [
      "[2025-07-04 23:18:52,893] ERROR in app: Exception on /put [POST]\n",
      "Traceback (most recent call last):\n",
      "  File \"/opt/anaconda3/envs/tfenv/lib/python3.9/site-packages/flask/app.py\", line 1511, in wsgi_app\n",
      "    response = self.full_dispatch_request()\n",
      "  File \"/opt/anaconda3/envs/tfenv/lib/python3.9/site-packages/flask/app.py\", line 920, in full_dispatch_request\n",
      "    return self.finalize_request(rv)\n",
      "  File \"/opt/anaconda3/envs/tfenv/lib/python3.9/site-packages/flask/app.py\", line 939, in finalize_request\n",
      "    response = self.make_response(rv)\n",
      "  File \"/opt/anaconda3/envs/tfenv/lib/python3.9/site-packages/flask/app.py\", line 1249, in make_response\n",
      "    raise TypeError(\n",
      "TypeError: The view function did not return a valid response. The return type must be a string, dict, list, tuple with headers or status, Response instance, or WSGI callable, but it was a ServerSelectionTimeoutError.\n",
      "127.0.0.1 - - [04/Jul/2025 23:18:52] \"\u001b[35m\u001b[1mPOST /put HTTP/1.1\u001b[0m\" 500 -\n"
     ]
    }
   ],
   "source": [
    "# Main code\n",
    "\n",
    "def main():\n",
    "    global client, db, col, app\n",
    "    client = MongoClient('mongodb://localhost:27017/')\n",
    "    db = client['my_db']\n",
    "    col = db['MyCollection']\n",
    "    app.run(port = 3237, host=\"0.0.0.0\")\n",
    "\n",
    "if __name__ == '__main__':\n",
    "    main()\n"
   ]
  }
 ],
 "metadata": {
  "kernelspec": {
   "display_name": "tfenv",
   "language": "python",
   "name": "python3"
  },
  "language_info": {
   "codemirror_mode": {
    "name": "ipython",
    "version": 3
   },
   "file_extension": ".py",
   "mimetype": "text/x-python",
   "name": "python",
   "nbconvert_exporter": "python",
   "pygments_lexer": "ipython3",
   "version": "3.9.23"
  }
 },
 "nbformat": 4,
 "nbformat_minor": 5
}

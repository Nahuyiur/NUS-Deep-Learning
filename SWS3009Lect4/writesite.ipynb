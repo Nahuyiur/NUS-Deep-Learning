{
 "cells": [
  {
   "cell_type": "markdown",
   "metadata": {},
   "source": [
    "# Communicating with Web Servers\n",
    "\n",
    "In this notebook we will use the \"requests\" class to send GET and POST requests to our server.\n",
    "\n",
    "## 1. Installing requests\n",
    "\n",
    "This is simple:\n",
    "\n",
    "```\n",
    "pip3 install requests\n",
    "```\n",
    "\n",
    "**Point of Confusion: In Flask we use the request class to access parameters passed to the server. Here we are talking about requests (note the extra 's' at the end) that is used to access websites through GET and POST.***\n",
    "\n",
    "## 2. Writing our Program\n",
    "\n",
    "We will now write a Python program that will write two documents to our test site (see testsite.ipynb), and read back the data.\n",
    "\n",
    "**Before starting, make sure you run the testsite.ipynb notebook in another tab so that our web server is running**\n",
    "\n",
    "### 2.1 Includes\n",
    "\n",
    "We will be passing in data in the form JSON so we include json and of course requests. We also include time so we can pause for 1 second between each call to write to the site's database:\n"
   ]
  },
  {
   "cell_type": "code",
   "execution_count": 1,
   "metadata": {},
   "outputs": [],
   "source": [
    "import json\n",
    "import time\n",
    "import requests\n",
    "\n"
   ]
  },
  {
   "cell_type": "markdown",
   "metadata": {},
   "source": [
    "### 2.2 Creating our Test Documents\n",
    "\n",
    "We will create two test documents that we will send to localhost:3237/put. \n"
   ]
  },
  {
   "cell_type": "code",
   "execution_count": 2,
   "metadata": {},
   "outputs": [],
   "source": [
    "doc1 = {\"name\":\"Document 1\", \"Description\":\"First test document\"}\n",
    "doc2 = {\"id\":1, \"Why\":\"We can do different formats!\"}\n",
    "\n"
   ]
  },
  {
   "cell_type": "markdown",
   "metadata": {},
   "source": [
    "### 2.3 Creating the POST requests\n",
    "\n",
    "To create the POST request we need to specify a header that simply tells us that the Content-type is application/json, and to use json.dumps to convert doc1 and doc2 into strings.  We also create a 'uri' variable to store our server name and port, for simplicity.\n",
    "\n",
    "We then call requests.post to post our documents:"
   ]
  },
  {
   "cell_type": "code",
   "execution_count": 3,
   "metadata": {},
   "outputs": [
    {
     "name": "stdout",
     "output_type": "stream",
     "text": [
      "Sending doc1\n",
      "Sending doc2\n"
     ]
    },
    {
     "ename": "KeyboardInterrupt",
     "evalue": "",
     "output_type": "error",
     "traceback": [
      "\u001b[0;31m---------------------------------------------------------------------------\u001b[0m",
      "\u001b[0;31mKeyboardInterrupt\u001b[0m                         Traceback (most recent call last)",
      "Cell \u001b[0;32mIn[3], line 13\u001b[0m\n\u001b[1;32m     10\u001b[0m \u001b[38;5;28mprint\u001b[39m(\u001b[38;5;124m\"\u001b[39m\u001b[38;5;124mSending doc2\u001b[39m\u001b[38;5;124m\"\u001b[39m)\n\u001b[1;32m     11\u001b[0m requests\u001b[38;5;241m.\u001b[39mpost(uri \u001b[38;5;241m+\u001b[39m \u001b[38;5;124m'\u001b[39m\u001b[38;5;124m/put\u001b[39m\u001b[38;5;124m'\u001b[39m, headers \u001b[38;5;241m=\u001b[39m header, data \u001b[38;5;241m=\u001b[39m json\u001b[38;5;241m.\u001b[39mdumps(doc2))\n\u001b[0;32m---> 13\u001b[0m \u001b[43mtime\u001b[49m\u001b[38;5;241;43m.\u001b[39;49m\u001b[43msleep\u001b[49m\u001b[43m(\u001b[49m\u001b[38;5;241;43m1\u001b[39;49m\u001b[43m)\u001b[49m\n\u001b[1;32m     14\u001b[0m \u001b[38;5;28mprint\u001b[39m(\u001b[38;5;124m\"\u001b[39m\u001b[38;5;124mGetting data\u001b[39m\u001b[38;5;124m\"\u001b[39m)\n\u001b[1;32m     15\u001b[0m res \u001b[38;5;241m=\u001b[39m requests\u001b[38;5;241m.\u001b[39mget(uri \u001b[38;5;241m+\u001b[39m \u001b[38;5;124m'\u001b[39m\u001b[38;5;124m/get\u001b[39m\u001b[38;5;124m'\u001b[39m)\n",
      "\u001b[0;31mKeyboardInterrupt\u001b[0m: "
     ]
    }
   ],
   "source": [
    "header = {'Content-type':'application/json'}\n",
    "\n",
    "uri = 'http://localhost:3237'\n",
    "\n",
    "# Send first document\n",
    "print(\"Sending doc1\")\n",
    "requests.post(uri + '/put', headers = header, data = json.dumps(doc1))\n",
    "\n",
    "time.sleep(1)\n",
    "print(\"Sending doc2\")\n",
    "requests.post(uri + '/put', headers = header, data = json.dumps(doc2))\n",
    "\n",
    "time.sleep(1)\n",
    "print(\"Getting data\")\n",
    "res = requests.get(uri + '/get')\n",
    "print(\"Result:\")\n",
    "print(res.text)"
   ]
  },
  {
   "cell_type": "code",
   "execution_count": null,
   "metadata": {},
   "outputs": [],
   "source": []
  },
  {
   "cell_type": "code",
   "execution_count": null,
   "metadata": {},
   "outputs": [],
   "source": []
  }
 ],
 "metadata": {
  "kernelspec": {
   "display_name": "tfenv",
   "language": "python",
   "name": "python3"
  },
  "language_info": {
   "codemirror_mode": {
    "name": "ipython",
    "version": 3
   },
   "file_extension": ".py",
   "mimetype": "text/x-python",
   "name": "python",
   "nbconvert_exporter": "python",
   "pygments_lexer": "ipython3",
   "version": "3.9.23"
  }
 },
 "nbformat": 4,
 "nbformat_minor": 4
}

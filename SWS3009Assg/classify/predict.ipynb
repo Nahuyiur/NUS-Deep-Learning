{
 "cells": [
  {
   "cell_type": "code",
   "execution_count": 1,
   "id": "53c07aae",
   "metadata": {},
   "outputs": [],
   "source": [
    "import tensorflow as tf\n",
    "import numpy as np\n",
    "from tensorflow.keras.preprocessing import image\n",
    "from tensorflow.keras.applications.efficientnet import preprocess_input\n",
    "from tensorflow.keras.models import load_model\n",
    "import sys, os\n",
    "from tensorflow.keras.layers import DepthwiseConv2D\n",
    "from tensorflow.keras.utils import custom_object_scope"
   ]
  },
  {
   "cell_type": "code",
   "execution_count": 2,
   "id": "c7c2f3ef",
   "metadata": {},
   "outputs": [],
   "source": [
    "IMG_SIZE   = 300\n",
    "MODEL_PATH = '/Users/ruiyuhan/Desktop/NUS Deep Learning/SWS3009Assg/classify/finetuned_model(final).h5'"
   ]
  },
  {
   "cell_type": "markdown",
   "id": "7ede13e6",
   "metadata": {},
   "source": []
  },
  {
   "cell_type": "code",
   "execution_count": 3,
   "id": "ca85e976",
   "metadata": {},
   "outputs": [],
   "source": [
    "def load_and_preprocess(img_path,img_size=300):\n",
    "    img = image.load_img(img_path, target_size=(IMG_SIZE, IMG_SIZE))\n",
    "    arr = image.img_to_array(img)\n",
    "    arr = preprocess_input(arr)          # ★ 与训练一致\n",
    "    return tf.expand_dims(arr, 0)\n"
   ]
  },
  {
   "cell_type": "code",
   "execution_count": 4,
   "id": "b7cc365f",
   "metadata": {},
   "outputs": [],
   "source": [
    "class DepthwiseConv2DCompat(DepthwiseConv2D):\n",
    "    def __init__(self, *a, groups=1, **k): super().__init__(*a, **k)\n"
   ]
  },
  {
   "cell_type": "code",
   "execution_count": 5,
   "id": "ee1714bf",
   "metadata": {},
   "outputs": [],
   "source": [
    "def predict_cat_image(model_path, img_path, class_names, img_size=300):\n",
    "    \"\"\"返回 (预测类别名, 置信度) 并打印每类概率\"\"\"\n",
    "    \n",
    "    with custom_object_scope({'DepthwiseConv2DCompat': DepthwiseConv2DCompat}):\n",
    "        model = load_model(MODEL_PATH, compile=False)\n",
    "    preds = model.predict(load_and_preprocess(img_path, img_size))[0]\n",
    "\n",
    "    print(f\"\\n📷 图像: {img_path}\")\n",
    "    # print(\"—— 类别概率分布 ——\")\n",
    "    # for name, p in zip(class_names, preds):\n",
    "    #     print(f\"{name:<15}: {p:.4f}\")\n",
    "\n",
    "    idx = np.argmax(preds)\n",
    "    print(f\"\\n✅ 预测结果: {class_names[idx]}  (置信度 {preds[idx]:.4f})\")\n",
    "    return class_names[idx], preds[idx]"
   ]
  },
  {
   "cell_type": "code",
   "execution_count": 6,
   "id": "abecef3f",
   "metadata": {},
   "outputs": [
    {
     "name": "stdout",
     "output_type": "stream",
     "text": [
      "['Pallas cats', 'Persian cats', 'Ragdolls', 'Singapura cats', 'Sphynx cats']\n"
     ]
    },
    {
     "name": "stderr",
     "output_type": "stream",
     "text": [
      "2025-07-08 12:02:13.728912: I metal_plugin/src/device/metal_device.cc:1154] Metal device set to: Apple M4 Pro\n",
      "2025-07-08 12:02:13.729093: I metal_plugin/src/device/metal_device.cc:296] systemMemory: 24.00 GB\n",
      "2025-07-08 12:02:13.729101: I metal_plugin/src/device/metal_device.cc:313] maxCacheSize: 8.00 GB\n",
      "2025-07-08 12:02:13.729157: I tensorflow/core/common_runtime/pluggable_device/pluggable_device_factory.cc:303] Could not identify NUMA node of platform GPU ID 0, defaulting to 0. Your kernel may not have been built with NUMA support.\n",
      "2025-07-08 12:02:13.729365: I tensorflow/core/common_runtime/pluggable_device/pluggable_device_factory.cc:269] Created TensorFlow device (/job:localhost/replica:0/task:0/device:GPU:0 with 0 MB memory) -> physical PluggableDevice (device: 0, name: METAL, pci bus id: <undefined>)\n",
      "2025-07-08 12:02:15.587126: I tensorflow/core/grappler/optimizers/custom_graph_optimizer_registry.cc:114] Plugin optimizer for device_type GPU is enabled.\n"
     ]
    },
    {
     "name": "stdout",
     "output_type": "stream",
     "text": [
      "1/1 [==============================] - 1s 1s/step\n",
      "\n",
      "📷 图像: /Users/ruiyuhan/Desktop/NUS Deep Learning/SWS3009Assg/data/blurred_dataset/train/Ragdolls/111(3).jpg\n",
      "\n",
      "✅ 预测结果: Ragdolls  (置信度 0.9996)\n"
     ]
    },
    {
     "data": {
      "text/plain": [
       "('Ragdolls', 0.99962246)"
      ]
     },
     "execution_count": 6,
     "metadata": {},
     "output_type": "execute_result"
    }
   ],
   "source": [
    "\n",
    "model_path = 'finetuned_model(2).h5'   # 你的模型文件\n",
    "img_path   = '/Users/ruiyuhan/Desktop/NUS Deep Learning/SWS3009Assg/data/blurred_dataset/train/Ragdolls/111(3).jpg'  # 要预测的图片\n",
    "class_names = ['Pallas cats', 'Persian cats', 'Ragdolls', 'Singapura cats', 'Sphynx cats']\n",
    "\n",
    "print(class_names)\n",
    "# 预测\n",
    "predict_cat_image(model_path, img_path, class_names)\n"
   ]
  }
 ],
 "metadata": {
  "kernelspec": {
   "display_name": "tfenv",
   "language": "python",
   "name": "python3"
  },
  "language_info": {
   "codemirror_mode": {
    "name": "ipython",
    "version": 3
   },
   "file_extension": ".py",
   "mimetype": "text/x-python",
   "name": "python",
   "nbconvert_exporter": "python",
   "pygments_lexer": "ipython3",
   "version": "3.9.23"
  }
 },
 "nbformat": 4,
 "nbformat_minor": 5
}

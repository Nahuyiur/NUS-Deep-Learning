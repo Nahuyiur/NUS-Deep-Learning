{
 "cells": [
  {
   "cell_type": "code",
   "execution_count": 1,
   "id": "91fd2bad",
   "metadata": {},
   "outputs": [],
   "source": [
    "from ultralytics import YOLO\n",
    "import cv2, numpy as np, matplotlib.pyplot as plt, os"
   ]
  },
  {
   "cell_type": "code",
   "execution_count": 2,
   "id": "2ac5c43f",
   "metadata": {},
   "outputs": [],
   "source": [
    "def pad_resize_bbox(img, xyxy, out_size=300, pad_color=(255, 255, 255)):\n",
    "    \"\"\"给定原图和 bbox，返回等比例放缩+白底居中后的 out_size×out_size 图像\"\"\"\n",
    "    x1, y1, x2, y2 = xyxy\n",
    "    crop = img[y1:y2, x1:x2]\n",
    "    h, w = crop.shape[:2]\n",
    "\n",
    "    scale = out_size / max(w, h)\n",
    "    new_w, new_h = int(w * scale), int(h * scale)\n",
    "    resized = cv2.resize(crop, (new_w, new_h), interpolation=cv2.INTER_AREA)\n",
    "\n",
    "    canvas = np.full((out_size, out_size, 3), pad_color, dtype=np.uint8)\n",
    "    x_off = (out_size - new_w) // 2\n",
    "    y_off = (out_size - new_h) // 2\n",
    "    canvas[y_off:y_off+new_h, x_off:x_off+new_w] = resized\n",
    "    return canvas"
   ]
  },
  {
   "cell_type": "code",
   "execution_count": 3,
   "id": "f4d2fb13",
   "metadata": {},
   "outputs": [],
   "source": [
    "def extract_bbox(img_path, model):\n",
    "    img = cv2.imread(img_path)\n",
    "    res  = model.predict(img, conf=0.25, save=False)[0]\n",
    "\n",
    "    if len(res.boxes) == 0:\n",
    "        print(f\"{img_path} No cats detected!\")\n",
    "\n",
    "    # 取置信度最高的 bbox\n",
    "    xyxy = res.boxes.xyxy[res.boxes.conf.argmax()].cpu().numpy().astype(int)\n",
    "    x1, y1, x2, y2 = xyxy\n",
    "\n",
    "    # 2️⃣ 生成 300×300 居中白底缩放图\n",
    "    padded = pad_resize_bbox(img, xyxy, out_size=300)\n",
    "\n",
    "    # 3️⃣ 画图展示\n",
    "    plt.figure(figsize=(8,4))\n",
    "    # 原图 + bbox\n",
    "    plt.subplot(1,2,1)\n",
    "    plt.imshow(cv2.cvtColor(img, cv2.COLOR_BGR2RGB))\n",
    "    plt.gca().add_patch(plt.Rectangle((x1,y1), x2-x1, y2-y1, fill=False, edgecolor='red', linewidth=2))\n",
    "    plt.title(f\"Original {i}\")\n",
    "    plt.axis('off')\n",
    "    # 处理后 300x300\n",
    "    plt.subplot(1,2,2)\n",
    "    plt.imshow(cv2.cvtColor(padded, cv2.COLOR_BGR2RGB))\n",
    "    plt.title(\"Padded 300×300\")\n",
    "    plt.axis('off')\n",
    "    plt.tight_layout()\n",
    "    plt.show()"
   ]
  }
 ],
 "metadata": {
  "kernelspec": {
   "display_name": "tfenv",
   "language": "python",
   "name": "python3"
  },
  "language_info": {
   "codemirror_mode": {
    "name": "ipython",
    "version": 3
   },
   "file_extension": ".py",
   "mimetype": "text/x-python",
   "name": "python",
   "nbconvert_exporter": "python",
   "pygments_lexer": "ipython3",
   "version": "3.9.23"
  }
 },
 "nbformat": 4,
 "nbformat_minor": 5
}
